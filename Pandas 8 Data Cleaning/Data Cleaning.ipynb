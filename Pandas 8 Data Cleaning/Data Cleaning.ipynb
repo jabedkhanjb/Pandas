{
 "cells": [
  {
   "cell_type": "markdown",
   "id": "de25fd2e",
   "metadata": {},
   "source": [
    "# Data Cleaning\n",
    "\n",
    "Data cleaning means fixing bad data in your data set.\n",
    "\n",
    "Bad data could be:\n",
    "\n",
    "    Empty cells\n",
    "    Data in wrong format\n",
    "    Wrong data\n",
    "    Duplicates\n",
    "\n",
    "In this tutorial you will learn how to deal with all of them."
   ]
  },
  {
   "cell_type": "code",
   "execution_count": null,
   "id": "c51a380a",
   "metadata": {},
   "outputs": [],
   "source": []
  }
 ],
 "metadata": {
  "kernelspec": {
   "display_name": "Python 3 (ipykernel)",
   "language": "python",
   "name": "python3"
  },
  "language_info": {
   "codemirror_mode": {
    "name": "ipython",
    "version": 3
   },
   "file_extension": ".py",
   "mimetype": "text/x-python",
   "name": "python",
   "nbconvert_exporter": "python",
   "pygments_lexer": "ipython3",
   "version": "3.9.13"
  }
 },
 "nbformat": 4,
 "nbformat_minor": 5
}
