{
 "cells": [
  {
   "cell_type": "markdown",
   "id": "b5209d51",
   "metadata": {},
   "source": [
    "# Viewing the Data\n",
    "\n",
    "One of the most used method for getting a quick overview of the DataFrame, is the <b>head()</b> method.\n",
    "\n",
    "The <b>head()</b> method returns the headers and a specified number of rows, starting from the top."
   ]
  },
  {
   "cell_type": "code",
   "execution_count": 1,
   "id": "c77165d9",
   "metadata": {},
   "outputs": [
    {
     "name": "stdout",
     "output_type": "stream",
     "text": [
      "    Duration  Pulse  Maxpulse  Calories\n",
      "0         60    110       130     409.1\n",
      "1         60    117       145     479.0\n",
      "2         60    103       135     340.0\n",
      "3         45    109       175     282.4\n",
      "4         45    117       148     406.0\n",
      "5         60    102       127     300.0\n",
      "6         60    110       136     374.0\n",
      "7         45    104       134     253.3\n",
      "8         30    109       133     195.1\n",
      "9         60     98       124     269.0\n",
      "10        60    103       147     329.3\n",
      "11        60    100       120     250.7\n",
      "12        60    106       128     345.3\n",
      "13        60    104       132     379.3\n",
      "14        60     98       123     275.0\n"
     ]
    }
   ],
   "source": [
    "import pandas as pd\n",
    "\n",
    "df = pd.read_csv('data.csv')\n",
    "\n",
    "print(df.head(15)) "
   ]
  },
  {
   "cell_type": "markdown",
   "id": "14a3c5e7",
   "metadata": {},
   "source": [
    "<b>Note:</b> if the number of rows is not specified, the <b>head()</b> method will return the top 5 rows."
   ]
  },
  {
   "cell_type": "code",
   "execution_count": 5,
   "id": "8afe8bdb",
   "metadata": {},
   "outputs": [
    {
     "name": "stdout",
     "output_type": "stream",
     "text": [
      "   Duration  Pulse  Maxpulse  Calories\n",
      "0        60    110       130     409.1\n",
      "1        60    117       145     479.0\n",
      "2        60    103       135     340.0\n",
      "3        45    109       175     282.4\n",
      "4        45    117       148     406.0\n"
     ]
    }
   ],
   "source": [
    "import pandas as pd\n",
    "\n",
    "df = pd.read_csv('data.csv')\n",
    "\n",
    "print(df.head()) "
   ]
  },
  {
   "cell_type": "markdown",
   "id": "e463b6df",
   "metadata": {},
   "source": [
    "# tail()\n",
    "tail() method for viewing the last rows of the DataFrame.\n",
    "\n",
    "The <b>tail()</b> method returns the headers and a specified number of rows, starting from the bottom."
   ]
  },
  {
   "cell_type": "code",
   "execution_count": 10,
   "id": "4042ea62",
   "metadata": {},
   "outputs": [
    {
     "name": "stdout",
     "output_type": "stream",
     "text": [
      "     Duration  Pulse  Maxpulse  Calories\n",
      "164        60    105       140     290.8\n",
      "165        60    110       145     300.0\n",
      "166        60    115       145     310.2\n",
      "167        75    120       150     320.4\n",
      "168        75    125       150     330.4\n"
     ]
    }
   ],
   "source": [
    "import pandas as pd\n",
    "\n",
    "df = pd.read_csv('data.csv')\n",
    "\n",
    "print(df.tail()) "
   ]
  },
  {
   "cell_type": "code",
   "execution_count": 11,
   "id": "fe5b3043",
   "metadata": {},
   "outputs": [
    {
     "name": "stdout",
     "output_type": "stream",
     "text": [
      "     Duration  Pulse  Maxpulse  Calories\n",
      "159        30     80       120     240.9\n",
      "160        30     85       120     250.4\n",
      "161        45     90       130     260.4\n",
      "162        45     95       130     270.0\n",
      "163        45    100       140     280.9\n",
      "164        60    105       140     290.8\n",
      "165        60    110       145     300.0\n",
      "166        60    115       145     310.2\n",
      "167        75    120       150     320.4\n",
      "168        75    125       150     330.4\n"
     ]
    }
   ],
   "source": [
    "import pandas as pd\n",
    "\n",
    "df = pd.read_csv('data.csv')\n",
    "\n",
    "print(df.tail(10)) # print last 10 data "
   ]
  },
  {
   "cell_type": "markdown",
   "id": "ca4b9ba4",
   "metadata": {},
   "source": [
    "# Info About the Data\n",
    "\n",
    "The DataFrames object has a method called <b>info()</b>, that gives you more information about the data set."
   ]
  },
  {
   "cell_type": "code",
   "execution_count": 12,
   "id": "df69c581",
   "metadata": {},
   "outputs": [
    {
     "name": "stdout",
     "output_type": "stream",
     "text": [
      "<class 'pandas.core.frame.DataFrame'>\n",
      "RangeIndex: 169 entries, 0 to 168\n",
      "Data columns (total 4 columns):\n",
      " #   Column    Non-Null Count  Dtype  \n",
      "---  ------    --------------  -----  \n",
      " 0   Duration  169 non-null    int64  \n",
      " 1   Pulse     169 non-null    int64  \n",
      " 2   Maxpulse  169 non-null    int64  \n",
      " 3   Calories  164 non-null    float64\n",
      "dtypes: float64(1), int64(3)\n",
      "memory usage: 5.4 KB\n",
      "None\n"
     ]
    }
   ],
   "source": [
    "import pandas as pd\n",
    "\n",
    "df = pd.read_csv('data.csv')\n",
    "\n",
    "# info\n",
    "print(df.info())"
   ]
  },
  {
   "cell_type": "markdown",
   "id": "818c9e5d",
   "metadata": {},
   "source": [
    "# Null Values\n",
    "\n",
    "The <b>info()</b> method also tells us how many Non-Null values there are present in each column, and in our data set it seems like there are 164 of 169 Non-Null values in the \"Calories\" column.\n",
    "\n",
    "Which means that there are 5 rows with no value at all, in the \"Calories\" column, for whatever reason.\n",
    "\n",
    "Empty values, or Null values, can be bad when analyzing data, and you should consider removing rows with empty values. This is a step towards what is called cleaning data, and you will learn more about that in the next chapters."
   ]
  },
  {
   "cell_type": "markdown",
   "id": "ef676ae1",
   "metadata": {},
   "source": [
    "##### @jabedkhanjb\n",
    "visit me: www.allmylinks.com/jabedkhanjb"
   ]
  },
  {
   "cell_type": "code",
   "execution_count": null,
   "id": "d86e033a",
   "metadata": {},
   "outputs": [],
   "source": []
  }
 ],
 "metadata": {
  "kernelspec": {
   "display_name": "Python 3 (ipykernel)",
   "language": "python",
   "name": "python3"
  },
  "language_info": {
   "codemirror_mode": {
    "name": "ipython",
    "version": 3
   },
   "file_extension": ".py",
   "mimetype": "text/x-python",
   "name": "python",
   "nbconvert_exporter": "python",
   "pygments_lexer": "ipython3",
   "version": "3.9.13"
  }
 },
 "nbformat": 4,
 "nbformat_minor": 5
}
